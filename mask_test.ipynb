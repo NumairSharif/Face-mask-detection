{
 "cells": [
  {
   "cell_type": "code",
   "execution_count": 2,
   "metadata": {},
   "outputs": [],
   "source": [
    "from tensorflow.keras.applications.mobilenet_v2 import preprocess_input\n",
    "from tensorflow.keras.preprocessing.image import img_to_array\n",
    "from tensorflow.keras.models import load_model\n",
    "\n",
    "import numpy as np\n",
    "import cv2\n",
    "import os"
   ]
  },
  {
   "cell_type": "code",
   "execution_count": 3,
   "metadata": {},
   "outputs": [],
   "source": [
    "prototxtPath = os.path.sep.join([r'F:\\UIU\\Semester 11\\Pattern Lab\\Project_mask\\face_detector','deploy.prototxt'])\n",
    "weightsPath = os.path.sep.join([r'F:\\UIU\\Semester 11\\Pattern Lab\\Project_mask\\face_detector','res10_300x300_ssd_iter_140000.caffemodel'])"
   ]
  },
  {
   "cell_type": "code",
   "execution_count": 4,
   "metadata": {},
   "outputs": [
    {
     "data": {
      "text/plain": [
       "'F:\\\\UIU\\\\Semester 11\\\\Pattern Lab\\\\Project_mask\\\\face_detector\\\\deploy.prototxt'"
      ]
     },
     "execution_count": 4,
     "metadata": {},
     "output_type": "execute_result"
    }
   ],
   "source": [
    "prototxtPath"
   ]
  },
  {
   "cell_type": "code",
   "execution_count": 5,
   "metadata": {},
   "outputs": [
    {
     "data": {
      "text/plain": [
       "'F:\\\\UIU\\\\Semester 11\\\\Pattern Lab\\\\Project_mask\\\\face_detector\\\\res10_300x300_ssd_iter_140000.caffemodel'"
      ]
     },
     "execution_count": 5,
     "metadata": {},
     "output_type": "execute_result"
    }
   ],
   "source": [
    "weightsPath"
   ]
  },
  {
   "cell_type": "code",
   "execution_count": 6,
   "metadata": {},
   "outputs": [],
   "source": [
    "net = cv2.dnn.readNet(prototxtPath,weightsPath)"
   ]
  },
  {
   "cell_type": "code",
   "execution_count": 7,
   "metadata": {},
   "outputs": [],
   "source": [
    "model = load_model(r'F:\\UIU\\Semester 11\\Pattern Lab\\Project_mask\\mobilenet_v2.model')"
   ]
  },
  {
   "cell_type": "code",
   "execution_count": 18,
   "metadata": {},
   "outputs": [],
   "source": [
    "image = cv2.imread(r'F:\\UIU\\Semester 11\\Pattern Lab\\Project_mask\\examples\\mask3.jpeg')"
   ]
  },
  {
   "cell_type": "code",
   "execution_count": 19,
   "metadata": {},
   "outputs": [
    {
     "data": {
      "text/plain": [
       "array([[[204, 212, 212],\n",
       "        [204, 212, 212],\n",
       "        [205, 213, 212],\n",
       "        ...,\n",
       "        [230, 234, 209],\n",
       "        [226, 232, 207],\n",
       "        [226, 232, 207]],\n",
       "\n",
       "       [[204, 212, 212],\n",
       "        [205, 213, 213],\n",
       "        [206, 214, 213],\n",
       "        ...,\n",
       "        [230, 234, 209],\n",
       "        [226, 232, 207],\n",
       "        [226, 232, 207]],\n",
       "\n",
       "       [[205, 213, 213],\n",
       "        [206, 214, 214],\n",
       "        [207, 215, 214],\n",
       "        ...,\n",
       "        [230, 235, 208],\n",
       "        [227, 233, 208],\n",
       "        [227, 233, 208]],\n",
       "\n",
       "       ...,\n",
       "\n",
       "       [[ 18,  18,  18],\n",
       "        [ 19,  19,  19],\n",
       "        [ 22,  22,  22],\n",
       "        ...,\n",
       "        [ 89,  75,  63],\n",
       "        [ 88,  75,  67],\n",
       "        [ 88,  77,  69]],\n",
       "\n",
       "       [[ 22,  22,  22],\n",
       "        [ 25,  25,  25],\n",
       "        [ 29,  29,  29],\n",
       "        ...,\n",
       "        [ 88,  76,  64],\n",
       "        [ 86,  77,  68],\n",
       "        [ 87,  77,  70]],\n",
       "\n",
       "       [[ 26,  26,  26],\n",
       "        [ 29,  29,  29],\n",
       "        [ 34,  34,  34],\n",
       "        ...,\n",
       "        [ 87,  77,  67],\n",
       "        [ 87,  78,  69],\n",
       "        [ 87,  79,  72]]], dtype=uint8)"
      ]
     },
     "execution_count": 19,
     "metadata": {},
     "output_type": "execute_result"
    }
   ],
   "source": [
    "image"
   ]
  },
  {
   "cell_type": "code",
   "execution_count": 20,
   "metadata": {},
   "outputs": [],
   "source": [
    "h , w= image.shape[:2]"
   ]
  },
  {
   "cell_type": "code",
   "execution_count": 21,
   "metadata": {},
   "outputs": [
    {
     "data": {
      "text/plain": [
       "(1280, 960)"
      ]
     },
     "execution_count": 21,
     "metadata": {},
     "output_type": "execute_result"
    }
   ],
   "source": [
    "(h,w)"
   ]
  },
  {
   "cell_type": "code",
   "execution_count": 22,
   "metadata": {},
   "outputs": [],
   "source": [
    "blob =cv2.dnn.blobFromImage(image,1.0,(300,300),(104.0,177.0,123.0))"
   ]
  },
  {
   "cell_type": "code",
   "execution_count": 23,
   "metadata": {},
   "outputs": [
    {
     "data": {
      "text/plain": [
       "array([[[[ 102.,  103.,  106., ...,  151.,  140.,  123.],\n",
       "         [ 106.,  108.,  109., ...,  141.,  139.,  129.],\n",
       "         [ 107.,  110.,  110., ...,  150.,  137.,  133.],\n",
       "         ...,\n",
       "         [ -89.,  -89.,  -91., ...,    1.,    3.,    2.],\n",
       "         [ -88.,  -88.,  -90., ...,    4.,    4.,   -4.],\n",
       "         [ -83.,  -70.,  -64., ...,  -11.,   -9.,  -17.]],\n",
       "\n",
       "        [[  37.,   38.,   41., ...,   78.,   69.,   56.],\n",
       "         [  41.,   43.,   44., ...,   68.,   64.,   59.],\n",
       "         [  42.,   45.,   44., ...,   76.,   62.,   62.],\n",
       "         ...,\n",
       "         [-162., -162., -162., ..., -101.,  -96.,  -93.],\n",
       "         [-161., -161., -161., ...,  -99.,  -96.,  -97.],\n",
       "         [-156., -143., -135., ..., -103., -100., -102.]],\n",
       "\n",
       "        [[  91.,   90.,   89., ...,   94.,   93.,   84.],\n",
       "         [  95.,   95.,   92., ...,   84.,   86.,   87.],\n",
       "         [  96.,   97.,   92., ...,  103.,   85.,   94.],\n",
       "         ...,\n",
       "         [-108., -108., -108., ...,  -74.,  -68.,  -57.],\n",
       "         [-107., -107., -107., ...,  -70.,  -66.,  -60.],\n",
       "         [-102.,  -89.,  -81., ...,  -67.,  -63.,  -56.]]]], dtype=float32)"
      ]
     },
     "execution_count": 23,
     "metadata": {},
     "output_type": "execute_result"
    }
   ],
   "source": [
    "blob"
   ]
  },
  {
   "cell_type": "code",
   "execution_count": 24,
   "metadata": {},
   "outputs": [
    {
     "data": {
      "text/plain": [
       "(1, 3, 300, 300)"
      ]
     },
     "execution_count": 24,
     "metadata": {},
     "output_type": "execute_result"
    }
   ],
   "source": [
    "blob.shape"
   ]
  },
  {
   "cell_type": "code",
   "execution_count": 25,
   "metadata": {},
   "outputs": [],
   "source": [
    "net.setInput(blob)\n",
    "detections = net.forward()"
   ]
  },
  {
   "cell_type": "code",
   "execution_count": 26,
   "metadata": {},
   "outputs": [
    {
     "data": {
      "text/plain": [
       "200"
      ]
     },
     "execution_count": 26,
     "metadata": {},
     "output_type": "execute_result"
    }
   ],
   "source": [
    "detections.shape[2]\n"
   ]
  },
  {
   "cell_type": "code",
   "execution_count": null,
   "metadata": {},
   "outputs": [],
   "source": [
    "\n",
    "        "
   ]
  },
  {
   "cell_type": "code",
   "execution_count": null,
   "metadata": {},
   "outputs": [
    {
     "name": "stdout",
     "output_type": "stream",
     "text": [
      "[[[114  99 143]\n",
      "  [105  95 125]\n",
      "  [ 94  87 108]\n",
      "  ...\n",
      "  [140 142 142]\n",
      "  [150 151 149]\n",
      "  [153 153 147]]\n",
      "\n",
      " [[108  95 133]\n",
      "  [102  92 115]\n",
      "  [ 93  85 102]\n",
      "  ...\n",
      "  [120 123 127]\n",
      "  [126 131 130]\n",
      "  [130 133 131]]\n",
      "\n",
      " [[106  94 124]\n",
      "  [103  93 109]\n",
      "  [ 99  90 103]\n",
      "  ...\n",
      "  [125 127 137]\n",
      "  [126 130 135]\n",
      "  [132 137 140]]\n",
      "\n",
      " ...\n",
      "\n",
      " [[ 87  46  31]\n",
      "  [ 88  48  30]\n",
      "  [ 88  48  30]\n",
      "  ...\n",
      "  [ 33  33  45]\n",
      "  [ 39  41  52]\n",
      "  [ 34  38  49]]\n",
      "\n",
      " [[ 87  46  31]\n",
      "  [ 88  48  30]\n",
      "  [ 88  48  30]\n",
      "  ...\n",
      "  [ 32  34  45]\n",
      "  [ 32  36  47]\n",
      "  [ 42  45  59]]\n",
      "\n",
      " [[ 87  46  31]\n",
      "  [ 88  48  30]\n",
      "  [ 88  48  30]\n",
      "  ...\n",
      "  [ 32  36  47]\n",
      "  [ 27  33  44]\n",
      "  [ 50  56  69]]]\n"
     ]
    }
   ],
   "source": [
    "#loop over the detections\n",
    "\n",
    "for i in range (0,detections.shape[2]):\n",
    "    \n",
    "    confidence = detections[0,0,i,2]\n",
    "    if confidence>0.5:\n",
    "        \n",
    "        #we need the X,Y co ordinates\n",
    "        box = detections[0,0,i,3:7]*np.array([w,h,w,h])\n",
    "        (startX,startY,endX,endY) = box.astype('int')\n",
    "        \n",
    "        #ensure the bounding boxes fall within the dimension of the frame\n",
    "        \n",
    "        (startX,startY) = (max(0,startX),max(0,startY))\n",
    "        (endX,endY) = (min(w-1,endX),min(h-1,endY))\n",
    "        \n",
    "        #extract the face ROI , convert it from BGR to RGB channel, resize it to 224,224, preprocess it\n",
    "        \n",
    "        face = image[startY:endY, startX:endX]\n",
    "        print(face)\n",
    "        \n",
    "        face = cv2.cvtColor(face,cv2.COLOR_BGR2RGB)\n",
    "        \n",
    "        face = cv2.resize(face,(224,224))\n",
    "        \n",
    "        face = img_to_array(face)\n",
    "        face = preprocess_input(face)\n",
    "        face = np.expand_dims(face,axis = 0)\n",
    "        \n",
    "        (mask,withoutMask) = model.predict(face)[0]\n",
    "        \n",
    "        #determinde the class label and color we will use to draw the bounding box and text\n",
    "        \n",
    "        label = 'Mask' if mask>withoutMask else 'No Mask'\n",
    "        \n",
    "        color = (0,255,0) if label=='Mask' else (0,0,255)\n",
    "        \n",
    "        #include the probability in the label\n",
    "        \n",
    "        label = \"{}:{:2f}%\".format(label,max(mask,withoutMask)*100)\n",
    "        \n",
    "        #display the label and bounding boxes\n",
    "        \n",
    "        cv2.putText(image,label,(startX,startY-10),cv2.FONT_HERSHEY_SIMPLEX,0.45,color,2)\n",
    "        cv2.rectangle(image,(startX,startY),(endX,endY),color,2)\n",
    "        \n",
    "\n",
    "cv2.imshow(\"OutPut\",image)\n",
    "cv2.waitKey(0)\n",
    "cv2.destroyAllwindows()"
   ]
  },
  {
   "cell_type": "code",
   "execution_count": null,
   "metadata": {},
   "outputs": [],
   "source": []
  }
 ],
 "metadata": {
  "kernelspec": {
   "display_name": "Python 3",
   "language": "python",
   "name": "python3"
  }
 },
 "nbformat": 4,
 "nbformat_minor": 4
}
